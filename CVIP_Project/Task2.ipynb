{
 "cells": [
  {
   "cell_type": "code",
   "execution_count": 51,
   "metadata": {
    "scrolled": false
   },
   "outputs": [
    {
     "name": "stdout",
     "output_type": "stream",
     "text": [
      "Keypoints detected\n",
      "Fundamental Matrix, F : \n",
      " [[ 1.28108523e-03  3.91348843e-03 -4.00743080e-01]\n",
      " [-3.79249240e-04 -1.89270399e-03  1.38014025e-01]\n",
      " [ 2.47657568e-02 -2.55724342e-01  1.00000000e+00]]\n"
     ]
    },
    {
     "data": {
      "image/png": "[encoded data removed]",
      "text/plain": [
       "<Figure size 432x288 with 1 Axes>"
      ]
     },
     "metadata": {},
     "output_type": "display_data"
    }
   ],
   "source": [
    "import cv2\n",
    "import numpy as np\n",
    "import random\n",
    "from matplotlib import pyplot as plt\n",
    "from matplotlib import cm\n",
    "import math\n",
    "\n",
    "\n",
    "UBIT = 'sdwivedi';\n",
    "np.random.seed(sum([ord(c) for c in UBIT]))\n",
    "\n",
    "\n",
    "def outputImage(img, outImageName):\n",
    "    cv2.imwrite('C:/Users/Shraddha/Desktop/CVIP/HW_Proj_2/OutputImages/'+outImageName+'.jpg', img)\n",
    "    return 1\n",
    "    cv2.waitKey(0)\n",
    "    cv2.destroyAllWindows()\n",
    "    \n",
    "\n",
    "\n",
    "img1 = cv2.imread('./proj2_data/data/tsucuba_left.png')\n",
    "img2 = cv2.imread('./proj2_data/data/tsucuba_right.png')\n",
    "img1gray= cv2.cvtColor(img1,cv2.COLOR_BGR2GRAY)\n",
    "img2gray= cv2.cvtColor(img2,cv2.COLOR_BGR2GRAY)\n",
    "\n",
    "sift = cv2.xfeatures2d.SIFT_create()\n",
    "#detecting the keypoints of image\n",
    "keypoints1 = sift.detect(img1gray,None)\n",
    "keypoints2 = sift.detect(img2gray,None)\n",
    "\n",
    "#drawing a circle according to size of keypoints with its orientation\n",
    "image1=cv2.drawKeypoints(img1gray,keypoints1,img1,flags=cv2.DRAW_MATCHES_FLAGS_DRAW_RICH_KEYPOINTS)\n",
    "image2=cv2.drawKeypoints(img2gray,keypoints2,img2,flags=cv2.DRAW_MATCHES_FLAGS_DRAW_RICH_KEYPOINTS)\n",
    "\n",
    "#computing descriptors\n",
    "keypoints1,descriptors1 = sift.compute(img1gray,keypoints1) \n",
    "keypoints2,descriptors2 = sift.compute(img2gray,keypoints2)\n",
    "\n",
    "print(\"Keypoints detected\")\n",
    "outputImage(image1,\"task2_sift1\")\n",
    "outputImage(image2,\"task2_sift2\")\n",
    "\n",
    "# FLANN parameters\n",
    "FLANN_INDEX_KDTREE = 1\n",
    "index_params = dict(algorithm = FLANN_INDEX_KDTREE, trees = 5)\n",
    "search_params = dict(checks=50)\n",
    "flann = cv2.FlannBasedMatcher(index_params,search_params)\n",
    "matches = flann.knnMatch(descriptors1,descriptors2,k=2)\n",
    "good = []\n",
    "pts1 = []\n",
    "pts2 = []\n",
    "# ratio test as per Lowe's paper\n",
    "for i,(m,n) in enumerate(matches):\n",
    "    if m.distance < 0.75*n.distance:\n",
    "        good.append(m)\n",
    "        \n",
    "        pts2.append(keypoints2[m.trainIdx].pt)\n",
    "        pts1.append(keypoints1[m.queryIdx].pt)\n",
    "\n",
    "image3 = cv2.drawMatches(image1,keypoints1,image2,keypoints2,good,None,flags=2)     \n",
    "outputImage(image3,\"task2_matches_knn\")\n",
    "pts1 = np.int32(pts1)\n",
    "pts2 = np.int32(pts2)\n",
    "pts1 = np.array(random.sample(list(pts1), 10))\n",
    "pts2 = np.array(random.sample(list(pts2), 10))\n",
    "# calculating Fundamental Matrix\n",
    "F, mask = cv2.findFundamentalMat(pts1,pts2, cv2.RANSAC, 1,0.99) \n",
    "print(\"Fundamental Matrix, F : \\n\",F)\n",
    "# We select only inlier points\n",
    "pts1 = pts1[mask.ravel()==1]\n",
    "pts2 = pts2[mask.ravel()==1]\n",
    "\n",
    "def drawlines(img1,img2,lines,pts1,pts2, color1):\n",
    "    \n",
    "    r,c,v = img1.shape\n",
    "    for r,pt1,pt2 in zip(lines,pts1,pts2):\n",
    "        color = color1\n",
    "        x0,y0 = map(int, [0, -r[2]/r[1] ])\n",
    "        x1,y1 = map(int, [c, -(r[2]+r[0]*c)/r[1] ])\n",
    "        img1 = cv2.line(img1, (x0,y0), (x1,y1), color,1)\n",
    "        img1 = cv2.circle(img1,tuple(pt1),5,color,-1)\n",
    "        img2 = cv2.circle(img2,tuple(pt2),5,color,-1)\n",
    "    return img1,img2\n",
    "\n",
    "# Find epilines corresponding to points in right image (second image) and\n",
    "# drawing its lines on left image\n",
    "lines1 = cv2.computeCorrespondEpilines(pts2.reshape(-1,1,2), 2,F)\n",
    "lines1 = lines1.reshape(-1,3)\n",
    "img5,img6 = drawlines(img1,img2,lines1,pts1,pts2, (255,0,0))\n",
    "# Find epilines corresponding to points in left image (first image) and\n",
    "# drawing its lines on right image\n",
    "lines2 = cv2.computeCorrespondEpilines(pts1.reshape(-1,1,2), 1,F)\n",
    "lines2 = lines2.reshape(-1,3)\n",
    "img3,img4= drawlines(img2,img1,lines2,pts2,pts1, (55,200,100))\n",
    "outputImage(img5,\"task2_epi_left\")\n",
    "outputImage(img3,\"task2_epi_right\")\n",
    "\n",
    "#disparity maps\n",
    "stereo = cv2.StereoSGBM_create(numDisparities=64, blockSize=27)\n",
    "disparity = stereo.compute(img1gray,img2gray)\n",
    "# apply threshold\n",
    "threshold = cv2.threshold(disparity, 0.6, 1.0, cv2.THRESH_BINARY)[1]\n",
    "\n",
    "plt.subplot(122),plt.imsave('task2_disparity', disparity, cmap = cm.gray)\n",
    "plt.show()\n"
   ]
  },
  {
   "cell_type": "code",
   "execution_count": null,
   "metadata": {},
   "outputs": [],
   "source": []
  },
  {
   "cell_type": "code",
   "execution_count": null,
   "metadata": {},
   "outputs": [],
   "source": []
  }
 ],
 "metadata": {
  "kernelspec": {
   "display_name": "Python 3",
   "language": "python",
   "name": "python3"
  },
  "language_info": {
   "codemirror_mode": {
    "name": "ipython",
    "version": 3
   },
   "file_extension": ".py",
   "mimetype": "text/x-python",
   "name": "python",
   "nbconvert_exporter": "python",
   "pygments_lexer": "ipython3",
   "version": "3.6.5"
  }
 },
 "nbformat": 4,
 "nbformat_minor": 2
}
